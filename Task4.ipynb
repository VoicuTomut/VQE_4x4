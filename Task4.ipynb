{
 "cells": [
  {
   "cell_type": "markdown",
   "metadata": {},
   "source": [
    "# Task 4"
   ]
  },
  {
   "cell_type": "markdown",
   "metadata": {},
   "source": [
    "![alt text](steps.jpg \"Title\")[1]"
   ]
  },
  {
   "cell_type": "markdown",
   "metadata": {},
   "source": [
    "Build a VQE to find lowest eigenvalue of matrices: $$ H=\\begin{pmatrix} 1 & 0  & 0 & 0 \\\\0 & 0  & -1 & 0\\\\ 0 & -1  & 0 & 0\\\\0 & 0  & 0 & 1\\end{pmatrix}$$"
   ]
  },
  {
   "cell_type": "code",
   "execution_count": 1,
   "metadata": {},
   "outputs": [],
   "source": [
    "from ipywidgets import widgets\n",
    "from IPython.display import display\n",
    "\n",
    "import matplotlib.pyplot as plt\n",
    "import numpy as np\n",
    "\n",
    "\n",
    "from qiskit import QuantumCircuit, Aer, execute"
   ]
  },
  {
   "cell_type": "markdown",
   "metadata": {},
   "source": [
    "# Matrices decomposition "
   ]
  },
  {
   "cell_type": "markdown",
   "metadata": {},
   "source": [
    "First step is to decompose our matrices in a liniar combination of pauli matrices (eazy to work with). We do these because is to expensive to directly apply H so we decompose him . "
   ]
  },
  {
   "cell_type": "code",
   "execution_count": 2,
   "metadata": {},
   "outputs": [
    {
     "name": "stdout",
     "output_type": "stream",
     "text": [
      "H:\n",
      "[[ 1.+0.j  0.+0.j  0.+0.j  0.+0.j]\n",
      " [ 0.+0.j  0.+0.j -1.+0.j  0.+0.j]\n",
      " [ 0.+0.j -1.+0.j  0.+0.j  0.+0.j]\n",
      " [ 0.+0.j  0.+0.j  0.+0.j  1.+0.j]]\n"
     ]
    }
   ],
   "source": [
    "H=np.array([[1,0,0,0],[0,0,-1,0],[0,-1,0,0],[0,0,0,1]],dtype=np.complex128);\n",
    "print(\"H:\")\n",
    "print(H)"
   ]
  },
  {
   "cell_type": "code",
   "execution_count": null,
   "metadata": {},
   "outputs": [],
   "source": [
    "I=np.array([[1,0],[0,1]],dtype=np.complex128)\n",
    "X=np.array([[0,1],[1,0]],dtype=np.complex128)\n",
    "Y=np.array([[0,-1.0j],[1.0j,0]],dtype=np.complex128)\n",
    "Z=np.array([[1,0],[0,-1]],dtype=np.complex128)\n",
    "M=[I,X,Y,Z]\n",
    "label=[\"I\",\"X\",\"Y\",\"Z\"]\n",
    "print(\"Basisa elements:\")\n",
    "for i in range(4):\n",
    "    for k in range (4):\n",
    "        print(label[i]+\"⊗\"+label[k]+\":\")\n",
    "        print(np.kron(M[i],M[k]))"
   ]
  },
  {
   "cell_type": "markdown",
   "metadata": {},
   "source": [
    "In these situation can be observed that H can be write as : $$H=\\begin{pmatrix} 1 & 0  & 0 & 0 \\\\0 & 0  & -1 & 0\\\\ 0 & -1  & 0 & 0\\\\0 & 0  & 0 & 1\\end{pmatrix}=\\frac{1}{2}(II+ZZ-XX-YY)$$"
   ]
  },
  {
   "cell_type": "markdown",
   "metadata": {},
   "source": [
    "If H had  more complex shape we could have ecompose  it  uing [2]. It's like decompozing a vetor onthe axez."
   ]
  },
  {
   "cell_type": "code",
   "execution_count": 3,
   "metadata": {},
   "outputs": [],
   "source": [
    "#Hilbert-Schmidt product\n",
    "def HS(m1,m2):\n",
    "    #input matrices m1 and m2 and return hilbert schmid  \n",
    "    return(np.dot(m1.conjugate().transpose(), m2)).trace()\n",
    "\n",
    "def decompose(H):\n",
    "    # Hase matrices as input and  as auput it gives \n",
    "    I=np.array([[1,0],[0,1]],dtype=np.complex128)\n",
    "    X=np.array([[0,1],[1,0]],dtype=np.complex128)\n",
    "    Y=np.array([[0,-1.0j],[1.0j,0]],dtype=np.complex128)\n",
    "    Z=np.array([[1,0],[0,-1]],dtype=np.complex128)\n",
    "    M=[I,X,Y,Z]\n",
    "    h=[]\n",
    "    for i in M:\n",
    "        for k in M:\n",
    "            b=np.kron(i,k)\n",
    "            h.append(0.25*HS(b,H))\n",
    "    return h"
   ]
  },
  {
   "cell_type": "code",
   "execution_count": 4,
   "metadata": {},
   "outputs": [
    {
     "name": "stdout",
     "output_type": "stream",
     "text": [
      "[(0.5+0j), 0j, 0j, 0j, 0j, (-0.5+0j), 0j, 0j, 0j, 0j, (-0.5+0j), 0j, 0j, 0j, 0j, (0.5+0j)]\n"
     ]
    }
   ],
   "source": [
    "h=decompose(H)\n",
    "print(h)"
   ]
  },
  {
   "cell_type": "markdown",
   "metadata": {},
   "source": [
    "$$ H=0.5(II)+0.0(IX)+0.0(IY)+0.0(IZ)+0.0(XI)-0.5(XX)+0.0(XY)+0.0(XZ)+0.0(YI)+0.0(YX)-0.5(YY)+0.0(YZ)+0.0(ZI)+0.0(ZX)+0.0(ZY)+0.5(ZZ)=\\frac{1}{2}(II+ZZ-XX-YY)$$"
   ]
  },
  {
   "cell_type": "markdown",
   "metadata": {},
   "source": [
    "# Anzatz"
   ]
  },
  {
   "cell_type": "markdown",
   "metadata": {},
   "source": [
    "The anzatz is a key step in VQE because it allows us to search thru different states controling gates parameters.A wrong anzats can get around the solution , but a too spred anzatz with an unproper optimization algorithm can stop us in a local minimum.  "
   ]
  },
  {
   "cell_type": "code",
   "execution_count": 5,
   "metadata": {},
   "outputs": [],
   "source": [
    "# T- vector of parametest ex T=[np.pi, np.pi/2]\n",
    "# depth - nr  of leyes \n",
    "\n",
    "def anz_1(T,depth):\n",
    "\n",
    "    qc=QuantumCircuit(2)\n",
    "    qc.ry(T[0],0)\n",
    "    qc.ry(T[0],1)\n",
    "    qc.rx(T[1],0)\n",
    "    qc.rx(T[1],1)\n",
    "\n",
    "    for k in range(depth):\n",
    "        qc.cx(0,1)\n",
    "        qc.ry(T[0],0)\n",
    "        qc.ry(T[0],1)\n",
    "        qc.rx(T[1],0)\n",
    "        qc.rx(T[1],1)\n",
    "    \n",
    "    return qc\n",
    "\n",
    "\n",
    "def anz_2(T,depth):\n",
    "    \n",
    "    qc=QuantumCircuit(2)\n",
    "    \n",
    "    for k in range(depth):\n",
    "        qc.ry(T[0],0)\n",
    "        qc.cx(0,1)\n",
    "        qc.rx(T[1],1)\n",
    "        \n",
    "    return qc\n"
   ]
  },
  {
   "cell_type": "code",
   "execution_count": 6,
   "metadata": {},
   "outputs": [
    {
     "name": "stdout",
     "output_type": "stream",
     "text": [
      "First anzatz with depth 3\n"
     ]
    },
    {
     "data": {
      "image/png": "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\n",
      "text/plain": [
       "<Figure size 840.392x144.48 with 1 Axes>"
      ]
     },
     "execution_count": 6,
     "metadata": {},
     "output_type": "execute_result"
    }
   ],
   "source": [
    "print(\"First anzatz with depth 3\")\n",
    "anz_1([np.pi,np.pi,3],depth=3).draw('mpl')"
   ]
  },
  {
   "cell_type": "code",
   "execution_count": 7,
   "metadata": {},
   "outputs": [
    {
     "name": "stdout",
     "output_type": "stream",
     "text": [
      "Second anzatz with depth 2\n"
     ]
    },
    {
     "data": {
      "image/png": "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\n",
      "text/plain": [
       "<Figure size 479.192x144.48 with 1 Axes>"
      ]
     },
     "execution_count": 7,
     "metadata": {},
     "output_type": "execute_result"
    }
   ],
   "source": [
    "print(\"Second anzatz with depth 2\")\n",
    "anz_2([np.pi,np.pi,3],depth=2).draw('mpl')"
   ]
  },
  {
   "cell_type": "markdown",
   "metadata": {},
   "source": [
    "# Measurement "
   ]
  },
  {
   "cell_type": "markdown",
   "metadata": {},
   "source": [
    "Before to start created  measurement we can observe that:\n",
    "<ul>\n",
    "    <li>II alweys will return expected value  1.</li>\n",
    "    <li>for ZI ,IZ ,ZZ  we can use the same circuit becuse they shere the same basis.</li>\n",
    "    <li> In general we measure in Z basis  to chenge basis Z to X we need  to ad a H gate and  to measure in base Y a Rx(pi/2) is necesary. </li>\n",
    "</ul>"
   ]
  },
  {
   "cell_type": "code",
   "execution_count": 8,
   "metadata": {},
   "outputs": [],
   "source": [
    "# for our H matrices just XX,YY,ZZ are relevant \n",
    "\n",
    "def measure_circ_xx(qc):\n",
    "    xx_m=qc.copy()\n",
    "    xx_m.h(0)\n",
    "    xx_m.h(1)\n",
    "    xx_m.measure_all()\n",
    "    return xx_m\n",
    "\n",
    "def measure_circ_yy(qc):\n",
    "    yy_m=qc.copy()\n",
    "    yy_m.rx(np.pi/2,0)\n",
    "    yy_m.rx(np.pi/2,1)\n",
    "    yy_m.measure_all()\n",
    "    return yy_m\n",
    "\n",
    "def measure_circ_zz(qc):\n",
    "    zz_m=qc.copy()\n",
    "    zz_m.measure_all()\n",
    "    return zz_m\n"
   ]
  },
  {
   "cell_type": "code",
   "execution_count": 15,
   "metadata": {},
   "outputs": [],
   "source": [
    "def measure_XX(qc,backend ,shots):\n",
    "    \n",
    "    qc_m = measure_circ_xx(qc)\n",
    "    \n",
    "    result = execute(qc_m, backend = backend, shots = shots).result()\n",
    "    counts = result.get_counts(qc_m)\n",
    "\n",
    "    if '00' not in counts:\n",
    "        counts['00'] = 0\n",
    "    if '01' not in counts:\n",
    "        counts['01'] = 0\n",
    "    if '10' not in counts:\n",
    "        counts['10'] = 0\n",
    "    if '11' not in counts:\n",
    "        counts['11'] = 0\n",
    "\n",
    "    total_counts = counts['00'] + counts['11'] + counts['01'] + counts['10']\n",
    "    exp = counts['00'] + counts['11'] -counts['01'] - counts['10']\n",
    "    exp = exp / total_counts\n",
    "    \n",
    "    return exp\n",
    "\n",
    "def measure_YY(qc,backend ,shots):\n",
    "    \n",
    "    qc_m=measure_circ_yy(qc)\n",
    "    result =execute(qc_m,backend=backend,shots=shots).result()\n",
    "    counts=result.get_counts(qc_m)\n",
    "    \n",
    "    if '00' not in counts:\n",
    "        counts['00'] = 0\n",
    "    if '01' not in counts:\n",
    "        counts['01'] = 0\n",
    "    if '10' not in counts:\n",
    "        counts['10'] = 0\n",
    "    if '11' not in counts:\n",
    "        counts['11'] = 0 \n",
    "    \n",
    "    total_counts = counts['00'] + counts['11'] + counts['01'] + counts['10']\n",
    "    exp = counts['00'] +counts['11'] - counts['01'] - counts['10']\n",
    "    exp = exp / total_counts\n",
    "    \n",
    "    return exp\n",
    "\n",
    "def measure_ZZ(qc,backend ,shots):\n",
    "    \n",
    "    qc_m=measure_circ_zz(qc)\n",
    "    result =execute(qc_m,backend=backend,shots=shots).result()\n",
    "    counts=result.get_counts(qc_m)\n",
    "   \n",
    "    if '00' not in counts:\n",
    "        counts['00'] = 0\n",
    "    if '01' not in counts:\n",
    "        counts['01'] = 0\n",
    "    if '10' not in counts:\n",
    "        counts['10'] = 0\n",
    "    if '11' not in counts:\n",
    "        counts['11'] = 0 \n",
    "    \n",
    "    total_counts = counts['00'] + counts['11'] + counts['01'] + counts['10']\n",
    "    exp = counts['00']+ counts['11'] - counts['01'] - counts['10']  \n",
    "    exp = exp / total_counts\n",
    "    \n",
    "    return exp"
   ]
  },
  {
   "cell_type": "markdown",
   "metadata": {},
   "source": [
    "Now that we have a wey to calculate expected value for <XX>,<YY>and <ZZ> we can calculate  <H> in  eigval function."
   ]
  },
  {
   "cell_type": "markdown",
   "metadata": {},
   "source": [
    "## Cost "
   ]
  },
  {
   "cell_type": "code",
   "execution_count": 16,
   "metadata": {},
   "outputs": [],
   "source": [
    "def value(h,param,anz,depth,backend, shots=1000):\n",
    "    if anz==1:\n",
    "        qc=anz_1(param,depth)\n",
    "    else:\n",
    "        if anz==2:\n",
    "            qc=anz_2(param,depth)\n",
    "       \n",
    "    cost=h[0]*1\n",
    "        \n",
    "    if(h[5]!=0):\n",
    "            xx = measure_XX(qc, backend,shots)\n",
    "            cost=cost+h[5]*xx\n",
    "    if(h[10]!=0):\n",
    "            yy = measure_YY(qc, backend,shots)\n",
    "            cost=cost+h[10]*yy\n",
    "    if(h[15]!=0):\n",
    "            zz = measure_ZZ(qc, backend,shots)\n",
    "            cost=cost+h[15]*zz\n",
    "    \n",
    "    return cost.real"
   ]
  },
  {
   "cell_type": "markdown",
   "metadata": {},
   "source": [
    " Results for some random parameters in our anzatz :"
   ]
  },
  {
   "cell_type": "code",
   "execution_count": 17,
   "metadata": {},
   "outputs": [],
   "source": [
    "simulator = Aer.get_backend('qasm_simulator')"
   ]
  },
  {
   "cell_type": "code",
   "execution_count": 18,
   "metadata": {},
   "outputs": [
    {
     "name": "stdout",
     "output_type": "stream",
     "text": [
      "pseudo eiganvalue : 0.8394999999999999\n"
     ]
    }
   ],
   "source": [
    "#anz_1\n",
    "eigval = value(h,[np.pi/3,np.pi/6],1,3,simulator, shots=100000)\n",
    "print(\"pseudo eiganvalue :\", str(eigval))"
   ]
  },
  {
   "cell_type": "code",
   "execution_count": 19,
   "metadata": {},
   "outputs": [
    {
     "name": "stdout",
     "output_type": "stream",
     "text": [
      "pseudo eiganvalue 0.00289\n"
     ]
    }
   ],
   "source": [
    "#anz_2\n",
    "eigval = value(h,[np.pi/2,np.pi/2],2,1,simulator, shots=100000)\n",
    "print(\"pseudo eiganvalue\", str(eigval))"
   ]
  },
  {
   "cell_type": "code",
   "execution_count": 21,
   "metadata": {},
   "outputs": [
    {
     "name": "stdout",
     "output_type": "stream",
     "text": [
      "Changing T[0],T[1] we can se how the output of value evolve. (for anz_2 with depth 1) : \n"
     ]
    },
    {
     "data": {
      "application/vnd.jupyter.widget-view+json": {
       "model_id": "02010f44d81a4b3a8e63b457af6c40bd",
       "version_major": 2,
       "version_minor": 0
      },
      "text/plain": [
       "interactive(children=(FloatSlider(value=0.5, continuous_update=False, description='T[0]/pi:', max=1.0, readout…"
      ]
     },
     "metadata": {},
     "output_type": "display_data"
    }
   ],
   "source": [
    "# Let's  play with parameters:\n",
    "\n",
    "theta_0=widgets.FloatSlider(\n",
    "    value=0.5,\n",
    "    min=0,\n",
    "    max=1,\n",
    "    step=0.001,\n",
    "    description='T[0]/pi:',\n",
    "    disabled=False,\n",
    "    continuous_update=False,\n",
    "    orientation='horizontal',\n",
    "    readout=True,\n",
    "    readout_format='.4f',\n",
    ")\n",
    "theta_1=widgets.FloatSlider(\n",
    "    value=0.5,\n",
    "    min=0,\n",
    "    max=1,\n",
    "    step=0.001,\n",
    "    description='T[1]/pi:',\n",
    "    disabled=False,\n",
    "    continuous_update=False,\n",
    "    orientation='horizontal',\n",
    "    readout=True,\n",
    "    readout_format='.4f',\n",
    ")\n",
    "\n",
    "\n",
    "def update (theta_0,theta_1):\n",
    "    eigval = value(h,[np.pi*theta_0,np.pi*theta_1],2,1,simulator, shots=100000)\n",
    "    print(\"The cost of the trial state is\", str(eigval))\n",
    "print(\"Changing T[0],T[1] we can se how the output of value evolve. (for anz_2 with depth 1) : \")\n",
    "widgets.interactive(update,theta_0=theta_0,theta_1=theta_1)"
   ]
  },
  {
   "cell_type": "markdown",
   "metadata": {},
   "source": [
    "Now let's se what is dezire answerd :"
   ]
  },
  {
   "cell_type": "code",
   "execution_count": 22,
   "metadata": {},
   "outputs": [
    {
     "name": "stdout",
     "output_type": "stream",
     "text": [
      "Now let's se what is dezire answerd :\n"
     ]
    },
    {
     "data": {
      "text/plain": [
       "(array([ 1.+0.j, -1.+0.j,  1.+0.j,  1.+0.j]),\n",
       " array([[ 0.        +0.j,  0.        +0.j,  1.        +0.j,\n",
       "          0.        +0.j],\n",
       "        [ 0.70710678+0.j,  0.70710678+0.j,  0.        +0.j,\n",
       "          0.        +0.j],\n",
       "        [-0.70710678+0.j,  0.70710678+0.j,  0.        +0.j,\n",
       "          0.        +0.j],\n",
       "        [ 0.        +0.j,  0.        +0.j,  0.        +0.j,\n",
       "          1.        +0.j]]))"
      ]
     },
     "execution_count": 22,
     "metadata": {},
     "output_type": "execute_result"
    }
   ],
   "source": [
    "print(\"Now let's se what is dezire answerd :\")\n",
    "np.linalg.eig(H)"
   ]
  },
  {
   "cell_type": "markdown",
   "metadata": {},
   "source": [
    "Now let's make a verification to see if we make some mistake . Let's see what value  will be minimum eigenvlue (expected to be -1) ."
   ]
  },
  {
   "cell_type": "code",
   "execution_count": 23,
   "metadata": {},
   "outputs": [
    {
     "name": "stdout",
     "output_type": "stream",
     "text": [
      "(-1+0j)\n"
     ]
    }
   ],
   "source": [
    "qc=QuantumCircuit(2)\n",
    "qc.initialize([0.0j,1/np.sqrt(2)+0.0j,1/np.sqrt(2)+0.0j,0.0j],[0,1])\n",
    "\n",
    "eigenvalue=h[0]*1\n",
    "        \n",
    "if(h[5]!=0):\n",
    "        xx = measure_XX(qc, simulator,shots=10000)\n",
    "        eigenvalue=eigenvalue+h[5]*xx\n",
    "if(h[10]!=0):\n",
    "        yy = measure_YY(qc, simulator,shots=10000)\n",
    "        eigenvalue=eigenvalue+h[10]*yy\n",
    "if(h[15]!=0):\n",
    "        zz = measure_ZZ(qc, simulator,shots=10000)\n",
    "        eigenvalue=eigenvalue+h[15]*zz\n",
    "        \n",
    "print(eigenvalue)"
   ]
  },
  {
   "cell_type": "markdown",
   "metadata": {},
   "source": [
    "## Optimize"
   ]
  },
  {
   "cell_type": "markdown",
   "metadata": {},
   "source": [
    "The next step involves finding the parameters for which the value function returns minimum value.To do these I use a COBYLA optimizer from scipy."
   ]
  },
  {
   "cell_type": "code",
   "execution_count": 28,
   "metadata": {},
   "outputs": [],
   "source": [
    "from scipy.optimize import minimize"
   ]
  },
  {
   "cell_type": "code",
   "execution_count": 29,
   "metadata": {},
   "outputs": [],
   "source": [
    "# prepere cost function with first anzatz\n",
    "def cost(T):\n",
    "    return value(h,T,1,1,simulator, shots=100000)"
   ]
  },
  {
   "cell_type": "code",
   "execution_count": 30,
   "metadata": {},
   "outputs": [
    {
     "name": "stdout",
     "output_type": "stream",
     "text": [
      "The cost of the trial state is -0.09977000000000003\n"
     ]
    }
   ],
   "source": [
    "T0=np.array([np.pi,np.pi])\n",
    "res = minimize(cost, T0, method='cobyla',options={ 'disp': True})\n",
    "eigval = value(h,res.x,1,1,simulator, shots=100000)\n",
    "print(\"The cost of the trial state is\", str(eigval))"
   ]
  },
  {
   "cell_type": "code",
   "execution_count": 31,
   "metadata": {},
   "outputs": [],
   "source": [
    "# prepere cost function with second anzatz\n",
    "def cost(T):\n",
    "    return value(h,T,2,1,simulator, shots=100000)"
   ]
  },
  {
   "cell_type": "code",
   "execution_count": 32,
   "metadata": {},
   "outputs": [
    {
     "name": "stdout",
     "output_type": "stream",
     "text": [
      "The cost of the trial state is -1.0\n"
     ]
    }
   ],
   "source": [
    "T0=np.array([np.pi,np.pi])\n",
    "res = minimize(cost, T0, method='cobyla',options={ 'disp': True})\n",
    "eigval = value(h,res.x,2,1,simulator, shots=100000)\n",
    "print(\"The cost of the trial state is\", str(eigval))"
   ]
  },
  {
   "cell_type": "markdown",
   "metadata": {},
   "source": [
    "__Now we see how well the second anzatz performs compared to the first. But here I chet a little becouse i see from state vector (0 ,0.70,0.70,0 ) that our qbits should be  in bell state. (0.70 =1/sqrt(2)  => may be we have a Hadamard and a CNOT)__"
   ]
  },
  {
   "cell_type": "markdown",
   "metadata": {},
   "source": [
    "### Resources"
   ]
  },
  {
   "cell_type": "markdown",
   "metadata": {},
   "source": [
    "1. A variational eigenvalue solver on a quantum processor https://arxiv.org/abs/1304.3061\n",
    "2. https://michaelgoerz.net/notes/decomposing-two-qubit-hamiltonians-into-pauli-matrices.html"
    3. Lectures 8-9 and Labs from https://qiskit.org/learn/intro-qc-qh/?utm_source=Twitter&utm_medium=Social&utm_campaign=Learn-Intro"
   ]
  },
  {
   "cell_type": "code",
   "execution_count": 173,
   "metadata": {},
   "outputs": [
    {
     "data": {
      "text/html": [
       "<h3>Version Information</h3><table><tr><th>Qiskit Software</th><th>Version</th></tr><tr><td>Qiskit</td><td>0.19.6</td></tr><tr><td>Terra</td><td>0.14.2</td></tr><tr><td>Aer</td><td>0.5.2</td></tr><tr><td>Ignis</td><td>0.3.3</td></tr><tr><td>Aqua</td><td>0.7.3</td></tr><tr><td>IBM Q Provider</td><td>0.7.2</td></tr><tr><th>System information</th></tr><tr><td>Python</td><td>3.7.7 (default, May  6 2020, 11:45:54) [MSC v.1916 64 bit (AMD64)]</td></tr><tr><td>OS</td><td>Windows</td></tr><tr><td>CPUs</td><td>4</td></tr><tr><td>Memory (Gb)</td><td>7.883815765380859</td></tr><tr><td colspan='2'>Tue Sep 08 19:30:28 2020 GTB Daylight Time</td></tr></table>"
      ],
      "text/plain": [
       "<IPython.core.display.HTML object>"
      ]
     },
     "metadata": {},
     "output_type": "display_data"
    },
    {
     "data": {
      "text/html": [
       "<div style='width: 100%; background-color:#d5d9e0;padding-left: 10px; padding-bottom: 10px; padding-right: 10px; padding-top: 5px'><h3>This code is a part of Qiskit</h3><p>&copy; Copyright IBM 2017, 2020.</p><p>This code is licensed under the Apache License, Version 2.0. You may<br>obtain a copy of this license in the LICENSE.txt file in the root directory<br> of this source tree or at http://www.apache.org/licenses/LICENSE-2.0.<p>Any modifications or derivative works of this code must retain this<br>copyright notice, and modified files need to carry a notice indicating<br>that they have been altered from the originals.</p></div>"
      ],
      "text/plain": [
       "<IPython.core.display.HTML object>"
      ]
     },
     "metadata": {},
     "output_type": "display_data"
    }
   ],
   "source": [
    "import qiskit.tools.jupyter\n",
    "%qiskit_version_table\n",
    "%qiskit_copyright"
   ]
  },
  {
   "cell_type": "code",
   "execution_count": null,
   "metadata": {},
   "outputs": [],
   "source": []
  }
 ],
 "metadata": {
  "kernelspec": {
   "display_name": "Python 3",
   "language": "python",
   "name": "python3"
  },
  "language_info": {
   "codemirror_mode": {
    "name": "ipython",
    "version": 3
   },
   "file_extension": ".py",
   "mimetype": "text/x-python",
   "name": "python",
   "nbconvert_exporter": "python",
   "pygments_lexer": "ipython3",
   "version": "3.7.7"
  }
 },
 "nbformat": 4,
 "nbformat_minor": 4
}
